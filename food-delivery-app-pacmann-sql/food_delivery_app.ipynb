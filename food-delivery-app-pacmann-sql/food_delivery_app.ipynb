{
 "cells": [
  {
   "cell_type": "markdown",
   "metadata": {},
   "source": [
    "# Live Class Case: Food Delivery App"
   ]
  },
  {
   "cell_type": "markdown",
   "metadata": {},
   "source": [
    "<img src = \"https://drive.google.com/uc?id=15J_RDF7Dp2_yR07uu7iTZwIvTUkuW1Jf\">"
   ]
  },
  {
   "cell_type": "code",
   "execution_count": 1,
   "metadata": {},
   "outputs": [
    {
     "name": "stdout",
     "output_type": "stream",
     "text": [
      "zsh:1: command not found: pip\n",
      "zsh:1: command not found: pip\n"
     ]
    }
   ],
   "source": [
    "# Instalasi library Faker\n",
    "!pip install Faker\n",
    "!pip install tabulate"
   ]
  },
  {
   "cell_type": "code",
   "execution_count": 2,
   "metadata": {},
   "outputs": [],
   "source": [
    "# Import Library yang akan digunakan\n",
    "from faker import Faker\n",
    "from tabulate import tabulate\n",
    "import random\n",
    "from datetime import datetime, timedelta\n",
    "import csv\n"
   ]
  },
  {
   "cell_type": "code",
   "execution_count": 3,
   "metadata": {},
   "outputs": [],
   "source": [
    "# Definisikan bahwa data yang digunakan menggunakan format Indonesia\n",
    "FAKER = Faker('id_ID')\n"
   ]
  },
  {
   "cell_type": "markdown",
   "metadata": {},
   "source": [
    "## Membuat dummy data\n",
    "\n",
    "### Dummy data yang dibuat adalah tabel-tabel berikut:\n",
    "\n",
    "* driver_coordinate\n",
    "* order\n",
    "* order_detail\n",
    "* order_status_log\n",
    "\n"
   ]
  },
  {
   "cell_type": "code",
   "execution_count": 4,
   "metadata": {},
   "outputs": [],
   "source": [
    "def show_data(table):\n",
    "    \"\"\"\n",
    "    Fungsi untuk menampilkan data\n",
    "\n",
    "    arg:\n",
    "        - table (dict) : data dictionary yang ingin ditampilkan\n",
    "\n",
    "    return:\n",
    "        None\n",
    "    \"\"\"\n",
    "\n",
    "    tab = tabulate(tabular_data = table,\n",
    "                   headers = table.keys(),\n",
    "                   tablefmt = \"psql\",\n",
    "                   numalign = \"center\")\n",
    "    print(tab)\n",
    "    "
   ]
  },
  {
   "cell_type": "code",
   "execution_count": 5,
   "metadata": {},
   "outputs": [],
   "source": [
    "def csv_to_dict(filename):\n",
    "    \"\"\"\n",
    "    Fungsi untuk ekstrak file csv menjadi list of dictionary\n",
    "\n",
    "    arg:\n",
    "        - filename (str) : nama file csv yang akan dibuka\n",
    "    return:\n",
    "        - data  (list) :  list of dictionary\n",
    "    \"\"\"\n",
    "\n",
    "    # buka file csv\n",
    "    with open(f'{filename}', mode='r', encoding='utf-8-sig') as file:\n",
    "        csv_reader = csv.DictReader(file)\n",
    "\n",
    "        # simpan dalam bentuk list of dictionary\n",
    "        data = {}\n",
    "        for row in csv_reader:\n",
    "            for key, value in row.items():\n",
    "                # setdefault() untuk menambahkan key ke result_dict\n",
    "                # value dari key diisi dengan empty list dulu\n",
    "                # empty list diisi dengan method append per baris data\n",
    "                data.setdefault(key, []).append(value)\n",
    "\n",
    "    return data"
   ]
  },
  {
   "cell_type": "markdown",
   "metadata": {},
   "source": [
    "### Dummy data tabel driver_coordinate\n",
    "* Deskripsi: Menyimpan informasi log koordinat posisi driver\n",
    "* Relasi: Tabel Driver(Parent Table)\n",
    "\n",
    " <img src =\"https://drive.google.com/uc?id=1rGDipkqXG54ky7iawkIfUEMmU09X1LAR\">"
   ]
  },
  {
   "cell_type": "markdown",
   "metadata": {},
   "source": [
    "## Buka data tabel driver"
   ]
  },
  {
   "cell_type": "code",
   "execution_count": 6,
   "metadata": {},
   "outputs": [
    {
     "ename": "FileNotFoundError",
     "evalue": "[Errno 2] No such file or directory: 'driver.csv'",
     "output_type": "error",
     "traceback": [
      "\u001b[0;31m---------------------------------------------------------------------------\u001b[0m",
      "\u001b[0;31mFileNotFoundError\u001b[0m                         Traceback (most recent call last)",
      "\u001b[1;32m/Users/candra.kurniawan/pacmann-sql/food-delivery-app-pacmann-sql/food_delivery_app.ipynb Cell 11\u001b[0m line \u001b[0;36m2\n\u001b[1;32m      <a href='vscode-notebook-cell:/Users/candra.kurniawan/pacmann-sql/food-delivery-app-pacmann-sql/food_delivery_app.ipynb#X12sZmlsZQ%3D%3D?line=0'>1</a>\u001b[0m \u001b[39m# Ekstrak file driver.csv menjadi list of dictionary\u001b[39;00m\n\u001b[0;32m----> <a href='vscode-notebook-cell:/Users/candra.kurniawan/pacmann-sql/food-delivery-app-pacmann-sql/food_delivery_app.ipynb#X12sZmlsZQ%3D%3D?line=1'>2</a>\u001b[0m driver_table \u001b[39m=\u001b[39m csv_to_dict(\u001b[39m'\u001b[39;49m\u001b[39mdriver.csv\u001b[39;49m\u001b[39m'\u001b[39;49m)\n",
      "\u001b[1;32m/Users/candra.kurniawan/pacmann-sql/food-delivery-app-pacmann-sql/food_delivery_app.ipynb Cell 11\u001b[0m line \u001b[0;36m1\n\u001b[1;32m      <a href='vscode-notebook-cell:/Users/candra.kurniawan/pacmann-sql/food-delivery-app-pacmann-sql/food_delivery_app.ipynb#X12sZmlsZQ%3D%3D?line=1'>2</a>\u001b[0m \u001b[39m\u001b[39m\u001b[39m\"\"\"\u001b[39;00m\n\u001b[1;32m      <a href='vscode-notebook-cell:/Users/candra.kurniawan/pacmann-sql/food-delivery-app-pacmann-sql/food_delivery_app.ipynb#X12sZmlsZQ%3D%3D?line=2'>3</a>\u001b[0m \u001b[39mFungsi untuk ekstrak file csv menjadi list of dictionary\u001b[39;00m\n\u001b[1;32m      <a href='vscode-notebook-cell:/Users/candra.kurniawan/pacmann-sql/food-delivery-app-pacmann-sql/food_delivery_app.ipynb#X12sZmlsZQ%3D%3D?line=3'>4</a>\u001b[0m \n\u001b[0;32m   (...)\u001b[0m\n\u001b[1;32m      <a href='vscode-notebook-cell:/Users/candra.kurniawan/pacmann-sql/food-delivery-app-pacmann-sql/food_delivery_app.ipynb#X12sZmlsZQ%3D%3D?line=7'>8</a>\u001b[0m \u001b[39m    - data  (list) :  list of dictionary\u001b[39;00m\n\u001b[1;32m      <a href='vscode-notebook-cell:/Users/candra.kurniawan/pacmann-sql/food-delivery-app-pacmann-sql/food_delivery_app.ipynb#X12sZmlsZQ%3D%3D?line=8'>9</a>\u001b[0m \u001b[39m\"\"\"\u001b[39;00m\n\u001b[1;32m     <a href='vscode-notebook-cell:/Users/candra.kurniawan/pacmann-sql/food-delivery-app-pacmann-sql/food_delivery_app.ipynb#X12sZmlsZQ%3D%3D?line=10'>11</a>\u001b[0m \u001b[39m# buka file csv\u001b[39;00m\n\u001b[0;32m---> <a href='vscode-notebook-cell:/Users/candra.kurniawan/pacmann-sql/food-delivery-app-pacmann-sql/food_delivery_app.ipynb#X12sZmlsZQ%3D%3D?line=11'>12</a>\u001b[0m \u001b[39mwith\u001b[39;00m \u001b[39mopen\u001b[39;49m(\u001b[39mf\u001b[39;49m\u001b[39m'\u001b[39;49m\u001b[39m{\u001b[39;49;00mfilename\u001b[39m}\u001b[39;49;00m\u001b[39m'\u001b[39;49m, mode\u001b[39m=\u001b[39;49m\u001b[39m'\u001b[39;49m\u001b[39mr\u001b[39;49m\u001b[39m'\u001b[39;49m, encoding\u001b[39m=\u001b[39;49m\u001b[39m'\u001b[39;49m\u001b[39mutf-8-sig\u001b[39;49m\u001b[39m'\u001b[39;49m) \u001b[39mas\u001b[39;00m file:\n\u001b[1;32m     <a href='vscode-notebook-cell:/Users/candra.kurniawan/pacmann-sql/food-delivery-app-pacmann-sql/food_delivery_app.ipynb#X12sZmlsZQ%3D%3D?line=12'>13</a>\u001b[0m     csv_reader \u001b[39m=\u001b[39m csv\u001b[39m.\u001b[39mDictReader(file)\n\u001b[1;32m     <a href='vscode-notebook-cell:/Users/candra.kurniawan/pacmann-sql/food-delivery-app-pacmann-sql/food_delivery_app.ipynb#X12sZmlsZQ%3D%3D?line=14'>15</a>\u001b[0m     \u001b[39m# simpan dalam bentuk list of dictionary\u001b[39;00m\n",
      "File \u001b[0;32m~/Library/Python/3.12/lib/python/site-packages/IPython/core/interactiveshell.py:310\u001b[0m, in \u001b[0;36m_modified_open\u001b[0;34m(file, *args, **kwargs)\u001b[0m\n\u001b[1;32m    303\u001b[0m \u001b[39mif\u001b[39;00m file \u001b[39min\u001b[39;00m {\u001b[39m0\u001b[39m, \u001b[39m1\u001b[39m, \u001b[39m2\u001b[39m}:\n\u001b[1;32m    304\u001b[0m     \u001b[39mraise\u001b[39;00m \u001b[39mValueError\u001b[39;00m(\n\u001b[1;32m    305\u001b[0m         \u001b[39mf\u001b[39m\u001b[39m\"\u001b[39m\u001b[39mIPython won\u001b[39m\u001b[39m'\u001b[39m\u001b[39mt let you open fd=\u001b[39m\u001b[39m{\u001b[39;00mfile\u001b[39m}\u001b[39;00m\u001b[39m by default \u001b[39m\u001b[39m\"\u001b[39m\n\u001b[1;32m    306\u001b[0m         \u001b[39m\"\u001b[39m\u001b[39mas it is likely to crash IPython. If you know what you are doing, \u001b[39m\u001b[39m\"\u001b[39m\n\u001b[1;32m    307\u001b[0m         \u001b[39m\"\u001b[39m\u001b[39myou can use builtins\u001b[39m\u001b[39m'\u001b[39m\u001b[39m open.\u001b[39m\u001b[39m\"\u001b[39m\n\u001b[1;32m    308\u001b[0m     )\n\u001b[0;32m--> 310\u001b[0m \u001b[39mreturn\u001b[39;00m io_open(file, \u001b[39m*\u001b[39;49margs, \u001b[39m*\u001b[39;49m\u001b[39m*\u001b[39;49mkwargs)\n",
      "\u001b[0;31mFileNotFoundError\u001b[0m: [Errno 2] No such file or directory: 'driver.csv'"
     ]
    }
   ],
   "source": [
    "# Ekstrak file driver.csv menjadi list of dictionary\n",
    "driver_table = csv_to_dict('driver.csv')"
   ]
  },
  {
   "cell_type": "code",
   "execution_count": null,
   "metadata": {},
   "outputs": [],
   "source": [
    "# lihat data driver\n",
    "show_data(driver_table)"
   ]
  },
  {
   "cell_type": "code",
   "execution_count": null,
   "metadata": {},
   "outputs": [],
   "source": [
    "def driver_coordinate_table(n_data, driver_table, is_print):\n",
    "    \"\"\"\n",
    "    Fungsi untuk membuat dummy data driver_coordinate table\n",
    "    header:\n",
    "        - driver_coordinate_id\n",
    "        - driver_id\n",
    "        - created_at\n",
    "        - coordinate\n",
    "    arg:\n",
    "        - n_data (int)  : Jumlah koordinat driver yang ingin dibuat\n",
    "        - driver_table (list)  : list of dictionary data driver\n",
    "        - is_print  (bool) : Jika True akan menampilkan hasil data\n",
    "\n",
    "    return:\n",
    "        - table  (list) :\n",
    "    \"\"\"\n",
    "    # definisikan awal tanggal\n",
    "    start_date = datetime(2022, 1, 1)\n",
    "\n",
    "    # definisikan akhir tanggal\n",
    "    end_date = datetime(2023, 12, 31, 23, 59, 59)\n",
    "\n",
    "    # Buat table\n",
    "    table = {}\n",
    "    table[\"driver_coordinate_id\"] = [i+1 for i in range(n_data)]\n",
    "    table[\"driver_id\"] = [random.choice(driver_table['driver_id']) for i in range(n_data)]\n",
    "    table[\"created_at\"] = [FAKER.date_time_between(start_date = start_date, end_date = end_date) for i in range(n_data)]\n",
    "    lat_log = [FAKER.local_latlng(country_code = 'ID', coords_only = True) for i in range(n_data)]\n",
    "    table[\"coordinate\"] = [(f'{lat_log[i][0]}, {lat_log[i][1]}')  for i in range(len(lat_log))]\n",
    "\n",
    "    # Print table\n",
    "    if is_print:\n",
    "        show_data(table)\n",
    "\n",
    "    return table"
   ]
  },
  {
   "cell_type": "code",
   "execution_count": null,
   "metadata": {},
   "outputs": [],
   "source": [
    "driver_coordinate_table = driver_coordinate_table(n_data = 100,\n",
    "                                                driver_table = driver_table,\n",
    "                                                is_print = True)"
   ]
  },
  {
   "cell_type": "markdown",
   "metadata": {},
   "source": [
    "### Dummy data tabel order\n",
    "* Deskripsi: Menyimpan informasi pesanan yang dibuat oleh customer\n",
    "* Relasi: Tabel users dan driver(Parent Table)\n",
    "\n",
    "<img src = \"https://drive.google.com/uc?id=1dVjDdRu7jedK63z9DkJcnQ-loiSslZpT\">"
   ]
  },
  {
   "cell_type": "code",
   "execution_count": 7,
   "metadata": {},
   "outputs": [
    {
     "ename": "FileNotFoundError",
     "evalue": "[Errno 2] No such file or directory: 'user_data.csv'",
     "output_type": "error",
     "traceback": [
      "\u001b[0;31m---------------------------------------------------------------------------\u001b[0m",
      "\u001b[0;31mFileNotFoundError\u001b[0m                         Traceback (most recent call last)",
      "\u001b[1;32m/Users/candra.kurniawan/pacmann-sql/food-delivery-app-pacmann-sql/food_delivery_app.ipynb Cell 16\u001b[0m line \u001b[0;36m2\n\u001b[1;32m      <a href='vscode-notebook-cell:/Users/candra.kurniawan/pacmann-sql/food-delivery-app-pacmann-sql/food_delivery_app.ipynb#X22sZmlsZQ%3D%3D?line=0'>1</a>\u001b[0m \u001b[39m# Ekstrak file user_data.csv menjadi list of dictionary\u001b[39;00m\n\u001b[0;32m----> <a href='vscode-notebook-cell:/Users/candra.kurniawan/pacmann-sql/food-delivery-app-pacmann-sql/food_delivery_app.ipynb#X22sZmlsZQ%3D%3D?line=1'>2</a>\u001b[0m user_table \u001b[39m=\u001b[39m csv_to_dict(\u001b[39m'\u001b[39;49m\u001b[39muser_data.csv\u001b[39;49m\u001b[39m'\u001b[39;49m)\n",
      "\u001b[1;32m/Users/candra.kurniawan/pacmann-sql/food-delivery-app-pacmann-sql/food_delivery_app.ipynb Cell 16\u001b[0m line \u001b[0;36m1\n\u001b[1;32m      <a href='vscode-notebook-cell:/Users/candra.kurniawan/pacmann-sql/food-delivery-app-pacmann-sql/food_delivery_app.ipynb#X22sZmlsZQ%3D%3D?line=1'>2</a>\u001b[0m \u001b[39m\u001b[39m\u001b[39m\"\"\"\u001b[39;00m\n\u001b[1;32m      <a href='vscode-notebook-cell:/Users/candra.kurniawan/pacmann-sql/food-delivery-app-pacmann-sql/food_delivery_app.ipynb#X22sZmlsZQ%3D%3D?line=2'>3</a>\u001b[0m \u001b[39mFungsi untuk ekstrak file csv menjadi list of dictionary\u001b[39;00m\n\u001b[1;32m      <a href='vscode-notebook-cell:/Users/candra.kurniawan/pacmann-sql/food-delivery-app-pacmann-sql/food_delivery_app.ipynb#X22sZmlsZQ%3D%3D?line=3'>4</a>\u001b[0m \n\u001b[0;32m   (...)\u001b[0m\n\u001b[1;32m      <a href='vscode-notebook-cell:/Users/candra.kurniawan/pacmann-sql/food-delivery-app-pacmann-sql/food_delivery_app.ipynb#X22sZmlsZQ%3D%3D?line=7'>8</a>\u001b[0m \u001b[39m    - data  (list) :  list of dictionary\u001b[39;00m\n\u001b[1;32m      <a href='vscode-notebook-cell:/Users/candra.kurniawan/pacmann-sql/food-delivery-app-pacmann-sql/food_delivery_app.ipynb#X22sZmlsZQ%3D%3D?line=8'>9</a>\u001b[0m \u001b[39m\"\"\"\u001b[39;00m\n\u001b[1;32m     <a href='vscode-notebook-cell:/Users/candra.kurniawan/pacmann-sql/food-delivery-app-pacmann-sql/food_delivery_app.ipynb#X22sZmlsZQ%3D%3D?line=10'>11</a>\u001b[0m \u001b[39m# buka file csv\u001b[39;00m\n\u001b[0;32m---> <a href='vscode-notebook-cell:/Users/candra.kurniawan/pacmann-sql/food-delivery-app-pacmann-sql/food_delivery_app.ipynb#X22sZmlsZQ%3D%3D?line=11'>12</a>\u001b[0m \u001b[39mwith\u001b[39;00m \u001b[39mopen\u001b[39;49m(\u001b[39mf\u001b[39;49m\u001b[39m'\u001b[39;49m\u001b[39m{\u001b[39;49;00mfilename\u001b[39m}\u001b[39;49;00m\u001b[39m'\u001b[39;49m, mode\u001b[39m=\u001b[39;49m\u001b[39m'\u001b[39;49m\u001b[39mr\u001b[39;49m\u001b[39m'\u001b[39;49m, encoding\u001b[39m=\u001b[39;49m\u001b[39m'\u001b[39;49m\u001b[39mutf-8-sig\u001b[39;49m\u001b[39m'\u001b[39;49m) \u001b[39mas\u001b[39;00m file:\n\u001b[1;32m     <a href='vscode-notebook-cell:/Users/candra.kurniawan/pacmann-sql/food-delivery-app-pacmann-sql/food_delivery_app.ipynb#X22sZmlsZQ%3D%3D?line=12'>13</a>\u001b[0m     csv_reader \u001b[39m=\u001b[39m csv\u001b[39m.\u001b[39mDictReader(file)\n\u001b[1;32m     <a href='vscode-notebook-cell:/Users/candra.kurniawan/pacmann-sql/food-delivery-app-pacmann-sql/food_delivery_app.ipynb#X22sZmlsZQ%3D%3D?line=14'>15</a>\u001b[0m     \u001b[39m# simpan dalam bentuk list of dictionary\u001b[39;00m\n",
      "File \u001b[0;32m~/Library/Python/3.12/lib/python/site-packages/IPython/core/interactiveshell.py:310\u001b[0m, in \u001b[0;36m_modified_open\u001b[0;34m(file, *args, **kwargs)\u001b[0m\n\u001b[1;32m    303\u001b[0m \u001b[39mif\u001b[39;00m file \u001b[39min\u001b[39;00m {\u001b[39m0\u001b[39m, \u001b[39m1\u001b[39m, \u001b[39m2\u001b[39m}:\n\u001b[1;32m    304\u001b[0m     \u001b[39mraise\u001b[39;00m \u001b[39mValueError\u001b[39;00m(\n\u001b[1;32m    305\u001b[0m         \u001b[39mf\u001b[39m\u001b[39m\"\u001b[39m\u001b[39mIPython won\u001b[39m\u001b[39m'\u001b[39m\u001b[39mt let you open fd=\u001b[39m\u001b[39m{\u001b[39;00mfile\u001b[39m}\u001b[39;00m\u001b[39m by default \u001b[39m\u001b[39m\"\u001b[39m\n\u001b[1;32m    306\u001b[0m         \u001b[39m\"\u001b[39m\u001b[39mas it is likely to crash IPython. If you know what you are doing, \u001b[39m\u001b[39m\"\u001b[39m\n\u001b[1;32m    307\u001b[0m         \u001b[39m\"\u001b[39m\u001b[39myou can use builtins\u001b[39m\u001b[39m'\u001b[39m\u001b[39m open.\u001b[39m\u001b[39m\"\u001b[39m\n\u001b[1;32m    308\u001b[0m     )\n\u001b[0;32m--> 310\u001b[0m \u001b[39mreturn\u001b[39;00m io_open(file, \u001b[39m*\u001b[39;49margs, \u001b[39m*\u001b[39;49m\u001b[39m*\u001b[39;49mkwargs)\n",
      "\u001b[0;31mFileNotFoundError\u001b[0m: [Errno 2] No such file or directory: 'user_data.csv'"
     ]
    }
   ],
   "source": [
    "# Ekstrak file user_data.csv menjadi list of dictionary\n",
    "user_table = csv_to_dict('user_data.csv')"
   ]
  },
  {
   "cell_type": "code",
   "execution_count": null,
   "metadata": {},
   "outputs": [],
   "source": [
    "# lihat data user\n",
    "show_data(user_table)"
   ]
  },
  {
   "cell_type": "markdown",
   "metadata": {},
   "source": [
    "Data review tidak bisa di generate oleh Faker\n",
    "\n",
    "Kita akan menggunakan data review dari [Restaurant Reviews ](https://www.kaggle.com/datasets/d4rklucif3r/restaurant-reviews?resource=download)yang didapatkan dari kaggle."
   ]
  },
  {
   "cell_type": "code",
   "execution_count": 8,
   "metadata": {},
   "outputs": [
    {
     "ename": "FileNotFoundError",
     "evalue": "[Errno 2] No such file or directory: 'review.csv'",
     "output_type": "error",
     "traceback": [
      "\u001b[0;31m---------------------------------------------------------------------------\u001b[0m",
      "\u001b[0;31mFileNotFoundError\u001b[0m                         Traceback (most recent call last)",
      "\u001b[1;32m/Users/candra.kurniawan/pacmann-sql/food-delivery-app-pacmann-sql/food_delivery_app.ipynb Cell 19\u001b[0m line \u001b[0;36m2\n\u001b[1;32m      <a href='vscode-notebook-cell:/Users/candra.kurniawan/pacmann-sql/food-delivery-app-pacmann-sql/food_delivery_app.ipynb#X24sZmlsZQ%3D%3D?line=0'>1</a>\u001b[0m \u001b[39m# buka file review\u001b[39;00m\n\u001b[0;32m----> <a href='vscode-notebook-cell:/Users/candra.kurniawan/pacmann-sql/food-delivery-app-pacmann-sql/food_delivery_app.ipynb#X24sZmlsZQ%3D%3D?line=1'>2</a>\u001b[0m review \u001b[39m=\u001b[39m csv_to_dict(\u001b[39m'\u001b[39;49m\u001b[39mreview.csv\u001b[39;49m\u001b[39m'\u001b[39;49m)\n",
      "\u001b[1;32m/Users/candra.kurniawan/pacmann-sql/food-delivery-app-pacmann-sql/food_delivery_app.ipynb Cell 19\u001b[0m line \u001b[0;36m1\n\u001b[1;32m      <a href='vscode-notebook-cell:/Users/candra.kurniawan/pacmann-sql/food-delivery-app-pacmann-sql/food_delivery_app.ipynb#X24sZmlsZQ%3D%3D?line=1'>2</a>\u001b[0m \u001b[39m\u001b[39m\u001b[39m\"\"\"\u001b[39;00m\n\u001b[1;32m      <a href='vscode-notebook-cell:/Users/candra.kurniawan/pacmann-sql/food-delivery-app-pacmann-sql/food_delivery_app.ipynb#X24sZmlsZQ%3D%3D?line=2'>3</a>\u001b[0m \u001b[39mFungsi untuk ekstrak file csv menjadi list of dictionary\u001b[39;00m\n\u001b[1;32m      <a href='vscode-notebook-cell:/Users/candra.kurniawan/pacmann-sql/food-delivery-app-pacmann-sql/food_delivery_app.ipynb#X24sZmlsZQ%3D%3D?line=3'>4</a>\u001b[0m \n\u001b[0;32m   (...)\u001b[0m\n\u001b[1;32m      <a href='vscode-notebook-cell:/Users/candra.kurniawan/pacmann-sql/food-delivery-app-pacmann-sql/food_delivery_app.ipynb#X24sZmlsZQ%3D%3D?line=7'>8</a>\u001b[0m \u001b[39m    - data  (list) :  list of dictionary\u001b[39;00m\n\u001b[1;32m      <a href='vscode-notebook-cell:/Users/candra.kurniawan/pacmann-sql/food-delivery-app-pacmann-sql/food_delivery_app.ipynb#X24sZmlsZQ%3D%3D?line=8'>9</a>\u001b[0m \u001b[39m\"\"\"\u001b[39;00m\n\u001b[1;32m     <a href='vscode-notebook-cell:/Users/candra.kurniawan/pacmann-sql/food-delivery-app-pacmann-sql/food_delivery_app.ipynb#X24sZmlsZQ%3D%3D?line=10'>11</a>\u001b[0m \u001b[39m# buka file csv\u001b[39;00m\n\u001b[0;32m---> <a href='vscode-notebook-cell:/Users/candra.kurniawan/pacmann-sql/food-delivery-app-pacmann-sql/food_delivery_app.ipynb#X24sZmlsZQ%3D%3D?line=11'>12</a>\u001b[0m \u001b[39mwith\u001b[39;00m \u001b[39mopen\u001b[39;49m(\u001b[39mf\u001b[39;49m\u001b[39m'\u001b[39;49m\u001b[39m{\u001b[39;49;00mfilename\u001b[39m}\u001b[39;49;00m\u001b[39m'\u001b[39;49m, mode\u001b[39m=\u001b[39;49m\u001b[39m'\u001b[39;49m\u001b[39mr\u001b[39;49m\u001b[39m'\u001b[39;49m, encoding\u001b[39m=\u001b[39;49m\u001b[39m'\u001b[39;49m\u001b[39mutf-8-sig\u001b[39;49m\u001b[39m'\u001b[39;49m) \u001b[39mas\u001b[39;00m file:\n\u001b[1;32m     <a href='vscode-notebook-cell:/Users/candra.kurniawan/pacmann-sql/food-delivery-app-pacmann-sql/food_delivery_app.ipynb#X24sZmlsZQ%3D%3D?line=12'>13</a>\u001b[0m     csv_reader \u001b[39m=\u001b[39m csv\u001b[39m.\u001b[39mDictReader(file)\n\u001b[1;32m     <a href='vscode-notebook-cell:/Users/candra.kurniawan/pacmann-sql/food-delivery-app-pacmann-sql/food_delivery_app.ipynb#X24sZmlsZQ%3D%3D?line=14'>15</a>\u001b[0m     \u001b[39m# simpan dalam bentuk list of dictionary\u001b[39;00m\n",
      "File \u001b[0;32m~/Library/Python/3.12/lib/python/site-packages/IPython/core/interactiveshell.py:310\u001b[0m, in \u001b[0;36m_modified_open\u001b[0;34m(file, *args, **kwargs)\u001b[0m\n\u001b[1;32m    303\u001b[0m \u001b[39mif\u001b[39;00m file \u001b[39min\u001b[39;00m {\u001b[39m0\u001b[39m, \u001b[39m1\u001b[39m, \u001b[39m2\u001b[39m}:\n\u001b[1;32m    304\u001b[0m     \u001b[39mraise\u001b[39;00m \u001b[39mValueError\u001b[39;00m(\n\u001b[1;32m    305\u001b[0m         \u001b[39mf\u001b[39m\u001b[39m\"\u001b[39m\u001b[39mIPython won\u001b[39m\u001b[39m'\u001b[39m\u001b[39mt let you open fd=\u001b[39m\u001b[39m{\u001b[39;00mfile\u001b[39m}\u001b[39;00m\u001b[39m by default \u001b[39m\u001b[39m\"\u001b[39m\n\u001b[1;32m    306\u001b[0m         \u001b[39m\"\u001b[39m\u001b[39mas it is likely to crash IPython. If you know what you are doing, \u001b[39m\u001b[39m\"\u001b[39m\n\u001b[1;32m    307\u001b[0m         \u001b[39m\"\u001b[39m\u001b[39myou can use builtins\u001b[39m\u001b[39m'\u001b[39m\u001b[39m open.\u001b[39m\u001b[39m\"\u001b[39m\n\u001b[1;32m    308\u001b[0m     )\n\u001b[0;32m--> 310\u001b[0m \u001b[39mreturn\u001b[39;00m io_open(file, \u001b[39m*\u001b[39;49margs, \u001b[39m*\u001b[39;49m\u001b[39m*\u001b[39;49mkwargs)\n",
      "\u001b[0;31mFileNotFoundError\u001b[0m: [Errno 2] No such file or directory: 'review.csv'"
     ]
    }
   ],
   "source": [
    "# buka file review\n",
    "review = csv_to_dict('review.csv')"
   ]
  },
  {
   "cell_type": "code",
   "execution_count": 9,
   "metadata": {},
   "outputs": [
    {
     "ename": "NameError",
     "evalue": "name 'review' is not defined",
     "output_type": "error",
     "traceback": [
      "\u001b[0;31m---------------------------------------------------------------------------\u001b[0m",
      "\u001b[0;31mNameError\u001b[0m                                 Traceback (most recent call last)",
      "\u001b[1;32m/Users/candra.kurniawan/pacmann-sql/food-delivery-app-pacmann-sql/food_delivery_app.ipynb Cell 20\u001b[0m line \u001b[0;36m2\n\u001b[1;32m      <a href='vscode-notebook-cell:/Users/candra.kurniawan/pacmann-sql/food-delivery-app-pacmann-sql/food_delivery_app.ipynb#X25sZmlsZQ%3D%3D?line=0'>1</a>\u001b[0m \u001b[39m# lihat data review\u001b[39;00m\n\u001b[0;32m----> <a href='vscode-notebook-cell:/Users/candra.kurniawan/pacmann-sql/food-delivery-app-pacmann-sql/food_delivery_app.ipynb#X25sZmlsZQ%3D%3D?line=1'>2</a>\u001b[0m show_data(review)\n",
      "\u001b[0;31mNameError\u001b[0m: name 'review' is not defined"
     ]
    }
   ],
   "source": [
    "# lihat data review\n",
    "show_data(review)"
   ]
  },
  {
   "cell_type": "code",
   "execution_count": null,
   "metadata": {},
   "outputs": [],
   "source": [
    "def orders_table(n_data, user_table, driver_table, is_print):\n",
    "    \"\"\"\n",
    "    Fungsi untuk membuat dummy data orders table\n",
    "    header:\n",
    "        - order_id\n",
    "        - user_id\n",
    "        - driver_id\n",
    "        - created_at\n",
    "        - delivery_charge\n",
    "        - review\n",
    "    arg:\n",
    "        - n_data (int)  : Jumlah data order yang ingin dibuat\n",
    "        - user_tabel (list): list of dictionary data driver\n",
    "        - driver_table (list)  : list of dictionary data driver\n",
    "        - is_print  (bool) : Jika True akan menampilkan hasil data\n",
    "\n",
    "    return:\n",
    "        - table  (list) :\n",
    "    \"\"\"\n",
    "    # definisikan awal tanggal\n",
    "    start_date = datetime(2022, 1, 1)\n",
    "\n",
    "    # definisikan akhir tanggal\n",
    "    end_date = datetime(2023, 12, 31, 23, 59, 59)\n",
    "\n",
    "    # Buat table\n",
    "    table = {}\n",
    "    table[\"order_id\"] = [i+1 for i in range(n_data)]\n",
    "    table[\"user_id\"] = [random.choice(user_table['user_id']) for i in range(n_data)]\n",
    "    table[\"driver_id\"] = [random.choice(driver_table['driver_id']) for i in range(n_data)]\n",
    "    table[\"created_at\"] = [FAKER.date_time_between(start_date = start_date, end_date = end_date) for i in range(n_data)]\n",
    "    table[\"delivery_charge\"] = [FAKER.random_int(10_000, 30_000, 1_000) for i in range(n_data)]\n",
    "    table[\"review\"] = [random.choice(review['Review']) for i in range(n_data)]\n",
    "\n",
    "    # Print table\n",
    "    if is_print:\n",
    "        show_data(table)\n",
    "    return table"
   ]
  },
  {
   "cell_type": "code",
   "execution_count": null,
   "metadata": {},
   "outputs": [],
   "source": [
    "orders_table = orders_table(n_data = 100, user_table = user_table,\n",
    "                            driver_table = driver_table, is_print = True)"
   ]
  },
  {
   "cell_type": "markdown",
   "metadata": {},
   "source": [
    "### Dummy data tabel order_detail\n",
    "* Deskripsi: Menyimpan informasi detail pesanan yaitu apa saja makanan yang dipesan oleh user\n",
    "* Relasi: Tabel orders dan food(Parent Table)\n",
    "\n",
    "\n",
    "<img src = \"https://drive.google.com/uc?id=1Yge8bOX5XA4YCM4iLTUEooPWSbF54-yQ\">"
   ]
  },
  {
   "cell_type": "code",
   "execution_count": null,
   "metadata": {},
   "outputs": [],
   "source": [
    "# buka file tabel food\n",
    "food_table = csv_to_dict('food.csv')"
   ]
  },
  {
   "cell_type": "code",
   "execution_count": null,
   "metadata": {},
   "outputs": [],
   "source": [
    "# lihat data tabel food\n",
    "show_data(food_table)"
   ]
  },
  {
   "cell_type": "code",
   "execution_count": null,
   "metadata": {},
   "outputs": [],
   "source": [
    "def orders_detail_table(n_data, orders_table, food_table, is_print):\n",
    "    \"\"\"\n",
    "    Fungsi untuk membuat dummy data orders_detail table\n",
    "    header:\n",
    "        - order_detail\n",
    "        - order_id\n",
    "        - food_id\n",
    "        - qty\n",
    "        - is_like\n",
    "    arg:\n",
    "        - n_data (int)  : Jumlah detail order yang ingin dibuat (>= jumlah data order)\n",
    "        - orders_tabel (list): list of dictionary data order\n",
    "        - food_table (list)  : list of dictionary data food\n",
    "        - is_print  (bool) : Jika True akan menampilkan hasil data\n",
    "\n",
    "    return:\n",
    "        - table  (list) :\n",
    "    \"\"\"\n",
    "\n",
    "    # Buat table\n",
    "    table = {}\n",
    "    table[\"order_detail_id\"] = [i+1 for i in range(n_data)]\n",
    "    table[\"order_id\"] = [random.choice(orders_table['order_id']) for i in range(n_data)]\n",
    "    table[\"food_id\"] = [random.choice(food_table['food_id']) for i in range(n_data)]\n",
    "    table[\"qty\"] = [FAKER.random_int(1, 10, 1) for i in range(n_data)]\n",
    "    table[\"is_like\"] = [FAKER.boolean(chance_of_getting_true = 80) for i in range(n_data)]\n",
    "\n",
    "    # Print table\n",
    "    if is_print:\n",
    "        show_data(table)\n",
    "    return table"
   ]
  },
  {
   "cell_type": "code",
   "execution_count": null,
   "metadata": {},
   "outputs": [],
   "source": [
    "orders_detail_table = orders_detail_table(n_data = 150, orders_table = orders_table,\n",
    "                            food_table = food_table, is_print = True)   "
   ]
  },
  {
   "cell_type": "markdown",
   "metadata": {},
   "source": [
    "### Dummy data tabel order_status_log\n",
    "* Deskripsi: Menyimpan informasi untuk setiap perubahan status order\n",
    "* Relasi: Tabel orders dan order_status(Parent Table)\n",
    "\n",
    "<img src = \"https://drive.google.com/uc?id=1lafPjp2OpXwnHhEZX_xFOAfGbm8zQ6cm\">"
   ]
  },
  {
   "cell_type": "code",
   "execution_count": null,
   "metadata": {},
   "outputs": [],
   "source": [
    "# buka file tabel order-status\n",
    "order_status_table = csv_to_dict('order_status.csv')"
   ]
  },
  {
   "cell_type": "code",
   "execution_count": null,
   "metadata": {},
   "outputs": [],
   "source": [
    "show_data(order_status_table)"
   ]
  },
  {
   "cell_type": "code",
   "execution_count": null,
   "metadata": {},
   "outputs": [],
   "source": [
    "def generate_status(orders_table):\n",
    "    \"\"\"\n",
    "    Fungsi untuk membuat status order\n",
    "    Misalkan:\n",
    "    Setiap order harus melewati status secara urut 1-2-3-4\n",
    "    Status id 5 (cancelled) dibuat unutk id order kelipatan 10\n",
    "\n",
    "    arg:\n",
    "       - orders_table (list): list of dictionary data order\n",
    "    return:\n",
    "        list (list) : kombinasi order_id dan status\n",
    "    \"\"\"\n",
    "\n",
    "    list_status = list()\n",
    "\n",
    "    for i in orders_table['order_id']:\n",
    "      if(i%10 != 0):\n",
    "        for j in order_status_table['order_status_id'][:-1]:\n",
    "          order_id = i\n",
    "          status = j\n",
    "          start_date = orders_table['created_at'][i-1] + timedelta(hours=int(j))\n",
    "          end_date = orders_table['created_at'][i-1] + timedelta(hours=int(j)+1)\n",
    "          created_at = FAKER.date_time_between(start_date, end_date)\n",
    "          data = (f'{order_id} {status} {created_at}')\n",
    "          list_status.append(data)\n",
    "      else:\n",
    "        order_id = i\n",
    "        status = 5\n",
    "        created_at = orders_table['created_at'][i-1] + timedelta(minutes=15)\n",
    "        data = (f'{order_id} {status} {created_at}')\n",
    "        list_status.append(data)\n",
    "\n",
    "    return list_status\n"
   ]
  },
  {
   "cell_type": "code",
   "execution_count": null,
   "metadata": {},
   "outputs": [],
   "source": [
    "def order_status_log_table(orders_table, order_status_table, is_print):\n",
    "    \"\"\"\n",
    "    Fungsi untuk membuat dummy data log perubahan status order\n",
    "    header:\n",
    "        - order_status_log_id\n",
    "        - order_id\n",
    "        - order_status_id\n",
    "        - created_at\n",
    "    arg:\n",
    "        - n_data (int)  : Jumlah koordinat driver yang ingin dibuat\n",
    "        - orders_table (list): list of dictionary data order\n",
    "        - order_status_table (list)  : list of dictionary data order_status\n",
    "        - is_print  (bool) : Jika True akan menampilkan hasil data\n",
    "\n",
    "    return:\n",
    "        - table  (list) :\n",
    "    \"\"\"\n",
    "\n",
    "    # Buat table\n",
    "    table = {}\n",
    "    list_status= generate_status(orders_table)\n",
    "    table[\"order_status_log_id\"] = [i+1 for i in range(len(list_status))]\n",
    "    table[\"order_id\"] = [i.split(' ')[0] for i in list_status]\n",
    "    table[\"order_status_id\"] = [i.split(' ')[1] for i in list_status]\n",
    "    table['created_at'] = [f\"{i.split(' ')[2]} {i.split(' ')[3]}\" for i in list_status]\n",
    "    # Print table\n",
    "    if is_print:\n",
    "        show_data(table)\n",
    "    return table"
   ]
  },
  {
   "cell_type": "code",
   "execution_count": null,
   "metadata": {},
   "outputs": [],
   "source": [
    "order_status_log_table = order_status_log_table(orders_table = orders_table,\n",
    "                            order_status_table = order_status_table, is_print = True)"
   ]
  },
  {
   "cell_type": "markdown",
   "metadata": {},
   "source": [
    "## Simpan menjadi file csv"
   ]
  },
  {
   "cell_type": "code",
   "execution_count": null,
   "metadata": {},
   "outputs": [],
   "source": [
    "def save_to_csv(data, nama_file):\n",
    "    '''\n",
    "    Fungsi untuk menyimpan data dummy ke csv\n",
    "\n",
    "    args:\n",
    "        - data (list)     : list of dictionary data yang akan dijadikan csv\n",
    "        - nama_file (str) : nama untuk file csv\n",
    "\n",
    "\treturn:\n",
    "\t\t- None\n",
    "    '''\n",
    "\n",
    "    # Membuat file csv\n",
    "    with open(file = f\"{nama_file}.csv\", mode = 'w', newline = '') as csv_file:\n",
    "        # Membuat writer csv\n",
    "        writer = csv.writer(csv_file)\n",
    "\n",
    "        # write header csv\n",
    "        writer.writerow(list(data.keys()))\n",
    "\n",
    "        # mengetahui panjang data\n",
    "        len_data = len(list(data.items())[0][1])\n",
    "\n",
    "        # write data ke file csv\n",
    "        for i in range(len_data):\n",
    "            row = []\n",
    "            for key in data.keys():\n",
    "                row.append(data[key][i])\n",
    "            writer.writerow(row)"
   ]
  },
  {
   "cell_type": "code",
   "execution_count": null,
   "metadata": {},
   "outputs": [],
   "source": [
    "# menyimpan data driver_coordinate dalam bentuk csv\n",
    "save_to_csv(data = driver_coordinate_table,\n",
    "            nama_file = 'driver_coordinate')"
   ]
  },
  {
   "cell_type": "code",
   "execution_count": null,
   "metadata": {},
   "outputs": [],
   "source": [
    "# menyimpan data orders dalam bentuk csv\n",
    "save_to_csv(data = orders_table,\n",
    "            nama_file='orders')"
   ]
  },
  {
   "cell_type": "code",
   "execution_count": null,
   "metadata": {},
   "outputs": [],
   "source": [
    "# menyimpan data order_detail dalam bentuk csv\n",
    "save_to_csv(data = orders_detail_table,\n",
    "            nama_file ='order_detail')"
   ]
  },
  {
   "cell_type": "code",
   "execution_count": null,
   "metadata": {},
   "outputs": [],
   "source": [
    "# menyimpan data order_status_log dalam bentuk csv\n",
    "save_to_csv(data = order_status_log_table,\n",
    "            nama_file ='order_status_log')"
   ]
  }
 ],
 "metadata": {
  "kernelspec": {
   "display_name": "Python 3",
   "language": "python",
   "name": "python3"
  },
  "language_info": {
   "codemirror_mode": {
    "name": "ipython",
    "version": 3
   },
   "file_extension": ".py",
   "mimetype": "text/x-python",
   "name": "python",
   "nbconvert_exporter": "python",
   "pygments_lexer": "ipython3",
   "version": "3.12.0"
  }
 },
 "nbformat": 4,
 "nbformat_minor": 2
}
